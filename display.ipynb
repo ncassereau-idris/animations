{
 "cells": [
  {
   "cell_type": "code",
   "execution_count": null,
   "id": "61c8e881-4660-4a23-b949-1d189ac82c2f",
   "metadata": {},
   "outputs": [],
   "source": [
    "from manim import *\n",
    "from scene import *"
   ]
  },
  {
   "cell_type": "code",
   "execution_count": null,
   "id": "f7702c9d-8ede-45e9-a94a-f4230edb1f70",
   "metadata": {},
   "outputs": [],
   "source": []
  },
  {
   "cell_type": "code",
   "execution_count": null,
   "id": "a797cfa8-5c09-4320-b993-6da12a768898",
   "metadata": {},
   "outputs": [],
   "source": [
    "%%manim -qm --format=gif --disable_caching -v ERROR CURVE\n",
    "\n",
    "pass"
   ]
  },
  {
   "cell_type": "code",
   "execution_count": null,
   "id": "f444d28c-cbe1-4f75-b400-c8db6ca7aded",
   "metadata": {},
   "outputs": [],
   "source": []
  }
 ],
 "metadata": {
  "kernelspec": {
   "display_name": "manim",
   "language": "python",
   "name": "manim"
  },
  "language_info": {
   "codemirror_mode": {
    "name": "ipython",
    "version": 3
   },
   "file_extension": ".py",
   "mimetype": "text/x-python",
   "name": "python",
   "nbconvert_exporter": "python",
   "pygments_lexer": "ipython3",
   "version": "3.10.4"
  }
 },
 "nbformat": 4,
 "nbformat_minor": 5
}
